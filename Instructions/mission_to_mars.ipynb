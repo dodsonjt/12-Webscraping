{
 "cells": [
  {
   "cell_type": "code",
   "execution_count": 38,
   "metadata": {},
   "outputs": [],
   "source": [
    "#Needed Library's\n",
    "from splinter import Browser\n",
    "from splinter.exceptions import ElementDoesNotExist\n",
    "from bs4 import BeautifulSoup\n",
    "\n",
    "import requests\n",
    "import pymongo"
   ]
  },
  {
   "cell_type": "code",
   "execution_count": 39,
   "metadata": {},
   "outputs": [
    {
     "name": "stdout",
     "output_type": "stream",
     "text": [
      "/c/Program Files (x86)/Google/Chrome/Application/chromedriver\n"
     ]
    }
   ],
   "source": [
    "# Path to chromedriver\n",
    "!which chromedriver"
   ]
  },
  {
   "cell_type": "code",
   "execution_count": 52,
   "metadata": {},
   "outputs": [],
   "source": [
    "executable_path = {'executable_path': 'chromedriver.exe'}\n",
    "browser = Browser('chrome', **executable_path, headless=False)"
   ]
  },
  {
   "cell_type": "markdown",
   "metadata": {},
   "source": [
    "#NASA Mars News"
   ]
  },
  {
   "cell_type": "code",
   "execution_count": 41,
   "metadata": {},
   "outputs": [],
   "source": [
    "url = 'https://www.jpl.nasa.gov/spaceimages/'\n",
    "browser.visit(url)"
   ]
  },
  {
   "cell_type": "code",
   "execution_count": 43,
   "metadata": {},
   "outputs": [
    {
     "name": "stdout",
     "output_type": "stream",
     "text": [
      "News  – NASA’s Mars Exploration Program \n"
     ]
    }
   ],
   "source": [
    "html = browser.html\n",
    "bsObj = BeautifulSoup(html, 'html.parser')\n",
    "\n",
    "# Extract title text\n",
    "title = soup.title.text\n",
    "print(title)"
   ]
  },
  {
   "cell_type": "code",
   "execution_count": 44,
   "metadata": {},
   "outputs": [
    {
     "name": "stdout",
     "output_type": "stream",
     "text": [
      "Managed by the Mars Exploration Program and the Jet Propulsion Laboratory for NASA’s Science Mission Directorate\n"
     ]
    }
   ],
   "source": [
    "# Print all paragraph texts\n",
    "paragraphs = soup.find_all('p')\n",
    "for paragraph in paragraphs:\n",
    "    print(paragraph.text)\n",
    "categories = bsObj.find_all('div')"
   ]
  },
  {
   "cell_type": "markdown",
   "metadata": {},
   "source": [
    "#JPL Mars Space Images - Featured Image"
   ]
  },
  {
   "cell_type": "code",
   "execution_count": 58,
   "metadata": {},
   "outputs": [],
   "source": [
    "executable_path = {'executable_path': 'chromedriver.exe'}\n",
    "browser = Browser('chrome', **executable_path, headless=False)"
   ]
  },
  {
   "cell_type": "code",
   "execution_count": 59,
   "metadata": {},
   "outputs": [],
   "source": [
    "url = 'https://www.jpl.nasa.gov/spaceimages/?search=&category=Mars'\n",
    "browser.visit(url)"
   ]
  },
  {
   "cell_type": "code",
   "execution_count": 60,
   "metadata": {},
   "outputs": [],
   "source": [
    "full_image = browser.find_by_id('full_image')\n",
    "full_image.click()"
   ]
  },
  {
   "cell_type": "code",
   "execution_count": 61,
   "metadata": {},
   "outputs": [],
   "source": [
    "browser.is_element_present_by_text('more info', wait_time=1)\n",
    "more_info = browser.find_link_by_partial_text('more info')\n",
    "more_info.click()"
   ]
  },
  {
   "cell_type": "code",
   "execution_count": 62,
   "metadata": {},
   "outputs": [],
   "source": [
    "html = browser.html\n",
    "img_obj = BeautifulSoup(html, 'html.parser')"
   ]
  },
  {
   "cell_type": "code",
   "execution_count": 63,
   "metadata": {},
   "outputs": [
    {
     "data": {
      "text/plain": [
       "'/spaceimages/images/largesize/PIA17793_hires.jpg'"
      ]
     },
     "execution_count": 63,
     "metadata": {},
     "output_type": "execute_result"
    }
   ],
   "source": [
    "img_url_rel = img_obj.select_one('figure.lede a img').get(\"src\")\n",
    "img_url_rel"
   ]
  },
  {
   "cell_type": "markdown",
   "metadata": {},
   "source": [
    "#Mars Weather"
   ]
  },
  {
   "cell_type": "code",
   "execution_count": 64,
   "metadata": {},
   "outputs": [],
   "source": [
    "executable_path = {'executable_path': 'chromedriver.exe'}\n",
    "browser = Browser('chrome', **executable_path, headless=False)"
   ]
  },
  {
   "cell_type": "code",
   "execution_count": 65,
   "metadata": {},
   "outputs": [],
   "source": [
    "url = 'https://twitter.com/marswxreport?lang=en'\n",
    "browser.visit(url)"
   ]
  },
  {
   "cell_type": "code",
   "execution_count": 66,
   "metadata": {},
   "outputs": [],
   "source": [
    "html = browser.html\n",
    "weather_obj = BeautifulSoup(html, 'html.parser')"
   ]
  },
  {
   "cell_type": "code",
   "execution_count": 67,
   "metadata": {},
   "outputs": [
    {
     "name": "stdout",
     "output_type": "stream",
     "text": [
      "\n",
      "    Keyboard shortcuts are available for common actions and site navigation.\n",
      "    View Keyboard Shortcuts\n",
      "Dismiss this message\n",
      "\n",
      "We've detected that JavaScript is disabled in your browser. Would you like to proceed to legacy Twitter?\n",
      "Yes\n",
      "Updates as avail from the REMS weather instrument aboard @MarsCuriosity.  Data credit: Centro deAstrobiologia, FMI, JPL/NASA, Not an official acct.\n",
      "Are you sure you want to view these Tweets? Viewing Tweets won't unblock @MarsWxReport\n",
      "InSight sol 307 (2019-10-08) low -102.0ºC (-151.6ºF) high -26.8ºC (-16.3ºF)\n",
      "winds from the SSE at 4.9 m/s (11.1 mph) gusting to 18.4 m/s (41.1 mph)\n",
      "pressure at 7.20 hPapic.twitter.com/JJhiWjVPY6\n",
      "InSight sol 306 (2019-10-07) low -102.7ºC (-152.8ºF) high -25.7ºC (-14.2ºF)\n",
      "winds from the SSE at 5.5 m/s (12.4 mph) gusting to 17.1 m/s (38.3 mph)\n",
      "pressure at 7.20 hPapic.twitter.com/i38dAuQJKJ\n",
      "InSight sol 305 (2019-10-05) low -104.1ºC (-155.3ºF) high -27.3ºC (-17.1ºF)\n",
      "winds from the SSE at 4.9 m/s (10.9 mph) gusting to 22.2 m/s (49.8 mph)\n",
      "pressure at 7.20 hPapic.twitter.com/Z1xfMgV2cY\n",
      "InSight sol 304 (2019-10-04) low -104.3ºC (-155.8ºF) high -25.9ºC (-14.6ºF)\n",
      "winds from the SSE at 5.0 m/s (11.1 mph) gusting to 18.2 m/s (40.8 mph)\n",
      "pressure at 7.20 hPapic.twitter.com/0GHynq2lfF\n",
      "InSight sol 303 (2019-10-03) low -103.9ºC (-155.1ºF) high -26.5ºC (-15.7ºF)\n",
      "winds from the SSE at 4.9 m/s (11.0 mph) gusting to 19.1 m/s (42.8 mph)\n",
      "pressure at 7.20 hPa\n",
      "Mars Weather Retweeted Tony Rice\n",
      "Our atmosphere is beautifulhttps://twitter.com/rtphokie/status/1180266075289718784 …\n",
      "Mars Weather added,\n",
      "InSight sol 302 (2019-10-02) low -102.0ºC (-151.7ºF) high -25.3ºC (-13.6ºF)\n",
      "winds from the SSE at 4.8 m/s (10.7 mph) gusting to 20.2 m/s (45.1 mph)\n",
      "pressure at 7.30 hPapic.twitter.com/NbIMjFZUpy\n",
      "InSight sol 301 (2019-10-01) low -103.9ºC (-155.0ºF) high -26.4ºC (-15.5ºF)\n",
      "winds from the SE at 5.0 m/s (11.1 mph) gusting to 17.9 m/s (40.1 mph)\n",
      "pressure at 7.30 hPapic.twitter.com/Mm4WQrmwZr\n",
      "InSight sol 300 (2019-09-30) low -103.2ºC (-153.7ºF) high -25.6ºC (-14.1ºF)\n",
      "winds from the SSE at 5.2 m/s (11.6 mph) gusting to 22.0 m/s (49.1 mph)\n",
      "pressure at 7.30 hPapic.twitter.com/bIfhUmZheS\n",
      "InSight sol 299 (2019-09-29) low -101.3ºC (-150.3ºF) high -27.7ºC (-17.8ºF)\n",
      "winds from the SSE at 4.7 m/s (10.6 mph) gusting to 17.3 m/s (38.8 mph)\n",
      "pressure at 7.30 hPa\n",
      "Martian sounds alert!\n",
      "I’m equipped with a very sensitive “ear.” My seismometer has been listening for #marsquakes and has picked up other interesting signals as well. Grab your headphones and take a listen. \n",
      "\n",
      "More sounds here: http://go.nasa.gov/2nDjEb1 pic.twitter.com/cp8lQkgdyv\n",
      "Happy 61st Birthday @NASApic.twitter.com/f3eBgKEfTI\n",
      "InSight sol 298 (2019-09-28) low -104.1ºC (-155.5ºF) high -26.8ºC (-16.3ºF)\n",
      "winds from the SW at 4.1 m/s (9.1 mph) gusting to 17.9 m/s (40.0 mph)\n",
      "pressure at 7.30 hPapic.twitter.com/vSIwstlCUg\n",
      "Time is running out to send your name to Mars aboard the 2020 rover, https://go.nasa.gov/2Wlf4gT  read more at #WRAL https://www.wral.com/send-your-name-to-mars-or-name-the-mars-rover/18665551/ …pic.twitter.com/8oOji4Eb8C\n",
      "Parker Solar Probe telemetry again being impacted by weather, but not rain this time, wind. Goldstone having gusts of up to 60km/h, enough to knock the antenna slightly off point at K-band. Video shows the dot being predicted and the triangles actual antenna angles.@NASASunpic.twitter.com/yurjiab7v8\n",
      "Seasons are changing on #Mars, just like on Earth. I’m heading into my first summer here (but not expecting the kind of summer temps you’re probably used to!).\n",
      "\n",
      "Latest weather: http://mars.nasa.gov/insight/weather pic.twitter.com/qaNa8Barru\n",
      "InSight sol 297 (2019-09-27) low -103.7ºC (-154.7ºF) high -26.1ºC (-15.0ºF)\n",
      "winds from the SSE at 5.4 m/s (12.0 mph) gusting to 18.0 m/s (40.2 mph)\n",
      "pressure at 7.30 hPapic.twitter.com/vp5YUgo4ya\n",
      "Mars Weather Retweeted Tory Bruno\n",
      "This ship, christened the RocketShip today, will bring the Mars2020 rover’s ride to space to Cape Canaveral next yearhttps://twitter.com/torybruno/status/1177720872708165634 …\n",
      "Mars Weather added,\n",
      "InSight sol 296 (2019-09-26) low -102.9ºC (-153.2ºF) high -26.4ºC (-15.5ºF)\n",
      "winds from the SSE at 5.1 m/s (11.5 mph) gusting to 18.2 m/s (40.7 mph)\n",
      "pressure at 7.30 hPapic.twitter.com/N3UuNIqFhF\n",
      "InSight sol 295 (2019-09-25) low -102.1ºC (-151.8ºF) high -26.6ºC (-15.9ºF)\n",
      "winds from the SSE at 4.9 m/s (11.0 mph) gusting to 17.9 m/s (40.0 mph)\n",
      "pressure at 7.30 hPa\n",
      "\n",
      "\n",
      "          @MarsWxReport hasn't Tweeted yet.\n",
      "      \n",
      "Back to top ↑\n",
      "\n",
      "      Twitter may be over capacity or experiencing a momentary hiccup. Try again or visit Twitter Status for more information.\n",
      "    \n",
      "\n",
      "\n",
      "        You can add location information to your Tweets, such as your city or precise location, from the web and via third-party applications. You always have the option to delete your Tweet location history.\n",
      "        Learn more\n",
      "\n",
      "Here's the URL for this Tweet. Copy it to easily share with friends.\n",
      "Add this Tweet to your website by copying the code below. Learn more\n",
      "Add this video to your website by copying the code below. Learn more\n",
      "Hmm, there was a problem reaching the server. Try again?\n",
      "By embedding Twitter content in your website or app, you are agreeing to the Twitter Developer Agreement and Developer Policy.\n",
      "This timeline is where you’ll spend most of your time, getting instant updates about what matters to you.\n",
      "\n",
      "    Hover over the profile pic and click the Following button to unfollow any account.\n",
      "  \n",
      "\n",
      "    When you see a Tweet you love, tap the heart — it lets  the person who wrote it know you shared the love.\n",
      "  \n",
      "\n",
      "    The fastest way to share someone else’s Tweet with your followers is with a Retweet. Tap the icon to send it instantly.\n",
      "  \n",
      "\n",
      "    Add your thoughts about any Tweet with a Reply. Find a topic you’re passionate about, and jump right in.\n",
      "  \n",
      "\n",
      "    Get instant insight into what people are talking about now.\n",
      "  \n",
      "\n",
      "    Follow more accounts to get instant updates about topics you care about.\n",
      "  \n",
      "\n",
      "    See the latest conversations about any topic instantly.\n",
      "  \n",
      "\n",
      "    Catch up instantly on the best stories happening as they unfold.\n",
      "  \n"
     ]
    }
   ],
   "source": [
    "paragraphs = weather_obj.find_all('p')\n",
    "for paragraph in paragraphs:\n",
    "    print(paragraph.text)\n",
    "categories = weather_obj.find_all('div')"
   ]
  },
  {
   "cell_type": "markdown",
   "metadata": {},
   "source": [
    "#Mars Hemispheres"
   ]
  },
  {
   "cell_type": "code",
   "execution_count": 68,
   "metadata": {},
   "outputs": [],
   "source": [
    "executable_path = {'executable_path': 'chromedriver.exe'}\n",
    "browser = Browser('chrome', **executable_path, headless=False)"
   ]
  },
  {
   "cell_type": "code",
   "execution_count": 69,
   "metadata": {},
   "outputs": [],
   "source": [
    "url = 'https://astrogeology.usgs.gov/search/results?q=hemisphere+enhanced&k1=target&v1=Mars'\n",
    "browser.visit(url)"
   ]
  },
  {
   "cell_type": "code",
   "execution_count": 70,
   "metadata": {},
   "outputs": [],
   "source": [
    "html = browser.html\n",
    "hemisphere_obj = BeautifulSoup(html, 'html.parser')"
   ]
  },
  {
   "cell_type": "code",
   "execution_count": 71,
   "metadata": {},
   "outputs": [
    {
     "name": "stdout",
     "output_type": "stream",
     "text": [
      "Mosaic of the Cerberus hemisphere of Mars projected into point perspective, a view similar to that which one would see from a spacecraft. This mosaic is composed of 104 Viking Orbiter images acquired…\n",
      "Mosaic of the Schiaparelli hemisphere of Mars projected into point perspective, a view similar to that which one would see from a spacecraft. The images were acquired in 1980 during early northern…\n",
      "Mosaic of the Syrtis Major hemisphere of Mars projected into point perspective, a view similar to that which one would see from a spacecraft. This mosaic is composed of about 100 red and violet…\n",
      "Mosaic of the Valles Marineris hemisphere of Mars projected into point perspective, a view similar to that which one would see from a spacecraft. The distance is 2500 kilometers from the surface of…\n"
     ]
    }
   ],
   "source": [
    "paragraphs = hemisphere_obj.find_all('p')\n",
    "for paragraph in paragraphs:\n",
    "    print(paragraph.text)\n",
    "categories = hemisphere_obj.find_all('div')"
   ]
  },
  {
   "cell_type": "code",
   "execution_count": null,
   "metadata": {},
   "outputs": [],
   "source": []
  }
 ],
 "metadata": {
  "kernelspec": {
   "display_name": "Python 3",
   "language": "python",
   "name": "python3"
  },
  "language_info": {
   "codemirror_mode": {
    "name": "ipython",
    "version": 3
   },
   "file_extension": ".py",
   "mimetype": "text/x-python",
   "name": "python",
   "nbconvert_exporter": "python",
   "pygments_lexer": "ipython3",
   "version": "3.7.3"
  }
 },
 "nbformat": 4,
 "nbformat_minor": 2
}
